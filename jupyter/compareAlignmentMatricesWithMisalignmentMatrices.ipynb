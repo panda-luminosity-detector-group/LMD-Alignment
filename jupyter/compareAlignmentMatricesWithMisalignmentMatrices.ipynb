{
 "cells": [
  {
   "cell_type": "code",
   "execution_count": null,
   "metadata": {},
   "outputs": [],
   "source": [
    "import numpy as np\n",
    "import sys\n",
    "sys.path.append(\"../\")\n",
    "from src.util.matrix import loadMatrices\n",
    "\n",
    "np.set_printoptions(precision=6)\n",
    "np.set_printoptions(suppress=True)"
   ]
  },
  {
   "cell_type": "markdown",
   "metadata": {},
   "source": [
    "# Compare Sensor Misalignment Matrices"
   ]
  },
  {
   "cell_type": "code",
   "execution_count": null,
   "metadata": {},
   "outputs": [],
   "source": [
    "alignmentMatrixFilename = '../matrices/100u-case-1/EXAMPLE-sensorAlignmentMatrices.json'\n",
    "\n",
    "paths = []\n",
    "\n",
    "for iHalf in range(2):\n",
    "    for iPlane in range(4):\n",
    "        for iModule in range(5):\n",
    "            for iSensor in range(8):\n",
    "                paths.append(f'/cave_1/lmd_root_0/half_{iHalf}/plane_{iPlane}/module_{iModule}/sensor_{iSensor}')\n",
    "\n",
    "# oldAnchorMatrices = loadMatrices('../../output/alMat-modules-oldAnchors.json')\n",
    "newAnchorMatrices = loadMatrices(alignmentMatrixFilename)\n",
    "mActual = loadMatrices('../matrices/100u-case-1/misMat-sensors.json')\n",
    "\n",
    "for path in paths:\n",
    "\n",
    "    print('--------------------------------------------------------:')\n",
    "    print('Path: ' + path)\n",
    "    print('Residuals Matrix:\\n')\n",
    "    print((np.linalg.inv(newAnchorMatrices[path]) @ mActual[path])*1e4)"
   ]
  },
  {
   "cell_type": "markdown",
   "metadata": {},
   "source": [
    "# Compare Module Misalignment Matrices"
   ]
  },
  {
   "cell_type": "code",
   "execution_count": null,
   "metadata": {},
   "outputs": [],
   "source": [
    "alignmentMatrixFilename = '../matrices/100u-case-1/EXAMPLE-moduleAlignmentMatrices.json'\n",
    "\n",
    "paths = []\n",
    "\n",
    "for iHalf in range(2):\n",
    "    for iPlane in range(4):\n",
    "        for iModule in range(5):\n",
    "            paths.append(f'/cave_1/lmd_root_0/half_{iHalf}/plane_{iPlane}/module_{iModule}')\n",
    "\n",
    "# oldAnchorMatrices = loadMatrices('../../output/alMat-modules-oldAnchors.json')\n",
    "newAnchorMatrices = loadMatrices(alignmentMatrixFilename)\n",
    "mActual = loadMatrices('../matrices/100u-case-1/misMat-modules.json')\n",
    "\n",
    "for path in paths:\n",
    "\n",
    "    print('--------------------------------------------------------:')\n",
    "    print('Path: ' + path)\n",
    "    print('Residuals Matrix:\\n')\n",
    "    print((np.linalg.inv(newAnchorMatrices[path]) @ mActual[path])*1e4)"
   ]
  },
  {
   "cell_type": "code",
   "execution_count": null,
   "metadata": {},
   "outputs": [],
   "source": []
  }
 ],
 "metadata": {
  "kernelspec": {
   "display_name": "alignment-venv",
   "language": "python",
   "name": "python3"
  },
  "language_info": {
   "codemirror_mode": {
    "name": "ipython",
    "version": 3
   },
   "file_extension": ".py",
   "mimetype": "text/x-python",
   "name": "python",
   "nbconvert_exporter": "python",
   "pygments_lexer": "ipython3",
   "version": "3.11.6"
  }
 },
 "nbformat": 4,
 "nbformat_minor": 2
}
