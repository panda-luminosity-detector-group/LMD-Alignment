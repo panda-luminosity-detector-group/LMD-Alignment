{
 "cells": [
  {
   "cell_type": "code",
   "execution_count": null,
   "metadata": {},
   "outputs": [],
   "source": [
    "import numpy as np\n",
    "import sys\n",
    "sys.path.append(\"../\")\n",
    "from src.util.matrix import loadMatrices\n",
    "\n",
    "np.set_printoptions(precision=6)\n",
    "np.set_printoptions(suppress=True)"
   ]
  },
  {
   "cell_type": "markdown",
   "metadata": {},
   "source": [
    "# Compare Box Rotation Euler Angles"
   ]
  },
  {
   "cell_type": "code",
   "execution_count": null,
   "metadata": {},
   "outputs": [],
   "source": [
    "def rotationMatrixToEulerAngles(R):\n",
    "\n",
    "    assert R.shape == (4, 4) or R.shape == (3, 3)\n",
    "\n",
    "    sy = np.sqrt(R[0, 0] * R[0, 0] + R[1, 0] * R[1, 0])\n",
    "    singular = sy < 1e-6\n",
    "\n",
    "    if not singular:\n",
    "        x = np.arctan2(R[2, 1], R[2, 2])\n",
    "        y = np.arctan2(-R[2, 0], sy)\n",
    "        z = np.arctan2(R[1, 0], R[0, 0])\n",
    "    else:\n",
    "        x = np.arctan2(-R[1, 2], R[1, 1])\n",
    "        y = np.arctan2(-R[2, 0], sy)\n",
    "        z = 0\n",
    "\n",
    "    return np.array([x, y, z])"
   ]
  },
  {
   "cell_type": "code",
   "execution_count": null,
   "metadata": {},
   "outputs": [],
   "source": [
    "# open the actual misalignment matrix\n",
    "misMatBox = loadMatrices(\"../matrices/100u-case-1/misMat-box.json\")['/cave_1/lmd_root_0']\n",
    "\n",
    "# open 1.5GeV alignment matrix\n",
    "alMatExample = loadMatrices(\"../matrices/100u-case-1/EXAMPLE-boxAlignMatrix.json\")['/cave_1/lmd_root_0']\n",
    "alMat1_5 = loadMatrices(\"../matrices/100u-case-1/boxAlignmentMatricees-1.5.json\")['/cave_1/lmd_root_0']\n",
    "alMat15 = loadMatrices('../matrices/100u-case-1/boxAlignmentMatricees-15.json')['/cave_1/lmd_root_0']\n",
    "\n",
    "print(\"Actual Misalgiment Matrix:\")\n",
    "print(rotationMatrixToEulerAngles(misMatBox)*1e3)\n",
    "\n",
    "# print residuals matrices\n",
    "print('Euler Angles example:')\n",
    "print(rotationMatrixToEulerAngles(alMatExample)*1e3)\n",
    "\n",
    "print('Euler Angles 1.5:')\n",
    "# print(rotationMatrixToEulerAngles((misMatBox @ alMat1_5)*1e6))\n",
    "print(rotationMatrixToEulerAngles(alMat1_5)*1e3)\n",
    "\n",
    "print('Euler Angles 15:')\n",
    "# print(rotationMatrixToEulerAngles((misMatBox @ alMat15)*1e6))\n",
    "print(rotationMatrixToEulerAngles(alMat15)*1e3)\n"
   ]
  },
  {
   "cell_type": "markdown",
   "metadata": {},
   "source": [
    "# Compare Sensor Misalignment Matrices"
   ]
  },
  {
   "cell_type": "code",
   "execution_count": null,
   "metadata": {},
   "outputs": [],
   "source": [
    "alignmentMatrixFilename = '../matrices/100u-case-1/sensorAlignmentMatrices-15.json'\n",
    "\n",
    "paths = []\n",
    "\n",
    "for iHalf in range(2):\n",
    "    for iPlane in range(4):\n",
    "        for iModule in range(5):\n",
    "            for iSensor in range(8):\n",
    "                paths.append(f'/cave_1/lmd_root_0/half_{iHalf}/plane_{iPlane}/module_{iModule}/sensor_{iSensor}')\n",
    "\n",
    "# oldAnchorMatrices = loadMatrices('../../output/alMat-modules-oldAnchors.json')\n",
    "newAnchorMatrices = loadMatrices(alignmentMatrixFilename)\n",
    "mActual = loadMatrices('../matrices/100u-case-1/misMat-sensors.json')\n",
    "\n",
    "for path in paths:\n",
    "\n",
    "    print('--------------------------------------------------------:')\n",
    "    print('Path: ' + path)\n",
    "    print('Residuals Matrix:\\n')\n",
    "    print((np.linalg.inv(newAnchorMatrices[path]) @ mActual[path])*1e4)"
   ]
  },
  {
   "cell_type": "markdown",
   "metadata": {},
   "source": [
    "# Compare Module Misalignment Matrices"
   ]
  },
  {
   "cell_type": "code",
   "execution_count": null,
   "metadata": {},
   "outputs": [],
   "source": [
    "# alignmentMatrixFilename = '../matrices/100u-case-1/moduleAlignmentMatrices-15.00.json'\n",
    "alignmentMatrixFilename = '../matrices/100u-case-1/EXAMPLE-moduleAlignmentMatrices.json'\n",
    "\n",
    "paths = []\n",
    "\n",
    "for iHalf in range(2):\n",
    "    for iPlane in range(4):\n",
    "        for iModule in range(5):\n",
    "            paths.append(f'/cave_1/lmd_root_0/half_{iHalf}/plane_{iPlane}/module_{iModule}')\n",
    "\n",
    "# oldAnchorMatrices = loadMatrices('../../output/alMat-modules-oldAnchors.json')\n",
    "newAnchorMatrices = loadMatrices(alignmentMatrixFilename)\n",
    "mActual = loadMatrices('../matrices/100u-case-1/misMat-modules.json')\n",
    "\n",
    "for path in paths:\n",
    "\n",
    "    print('--------------------------------------------------------:')\n",
    "    print('Path: ' + path)\n",
    "    print('Residuals Matrix:\\n')\n",
    "    print((np.linalg.inv(newAnchorMatrices[path]) @ mActual[path])*1e4)"
   ]
  },
  {
   "cell_type": "code",
   "execution_count": null,
   "metadata": {},
   "outputs": [],
   "source": []
  }
 ],
 "metadata": {
  "kernelspec": {
   "display_name": "alignment-venv",
   "language": "python",
   "name": "python3"
  },
  "language_info": {
   "codemirror_mode": {
    "name": "ipython",
    "version": 3
   },
   "file_extension": ".py",
   "mimetype": "text/x-python",
   "name": "python",
   "nbconvert_exporter": "python",
   "pygments_lexer": "ipython3",
   "version": "3.11.6"
  }
 },
 "nbformat": 4,
 "nbformat_minor": 2
}
