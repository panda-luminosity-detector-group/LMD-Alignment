{
 "cells": [
  {
   "cell_type": "code",
   "execution_count": null,
   "metadata": {},
   "outputs": [],
   "source": [
    "# okay, ugly hack: load sensorID -> moduleID mapping\n",
    "import json, re\n",
    "\n",
    "with open(\"comparisonData/modules-1.00/rawData/detectorOverlapsIdeal.json\") as f:\n",
    "    overlapsOld = json.load(f)\n",
    "\n",
    "sensorIDdict = {}\n",
    "\n",
    "regex = r\"/cave_(\\d+)/lmd_root_(\\d+)/half_(\\d+)/plane_(\\d+)/module_(\\d+)\"\n",
    "\n",
    "for overlap in overlapsOld.values():\n",
    "    path1 = overlap[\"path1\"]\n",
    "    path2 = overlap[\"path2\"]\n",
    "    id1 = overlap[\"id1\"]\n",
    "    id2 = overlap[\"id2\"]\n",
    "\n",
    "    m1 = re.match(regex, path1)\n",
    "    m2 = re.match(regex, path2)\n",
    "\n",
    "    if m1:\n",
    "        half1 = int(m1.group(3))\n",
    "        module1 = int(m1.group(5))\n",
    "        if half1 == 0:\n",
    "            sensorIDdict[id1] = module1\n",
    "        else:\n",
    "            sensorIDdict[id1] = module1 + 5\n",
    "\n",
    "    if m2:\n",
    "        half2 = int(m2.group(3))\n",
    "        module2 = int(m2.group(5))\n",
    "\n",
    "        if half2 == 0:\n",
    "            sensorIDdict[id2] = module2\n",
    "        else:\n",
    "            sensorIDdict[id2] = module2 + 5\n",
    "\n",
    "sensorIDdict = dict(sorted(sensorIDdict.items()))\n",
    "\n",
    "with open(\"comparisonData/modules-1.00/rawData/sensorToModule.json\", \"w\") as f:\n",
    "    json.dump(sensorIDdict, f)"
   ]
  }
 ],
 "metadata": {
  "language_info": {
   "name": "python"
  },
  "orig_nbformat": 4
 },
 "nbformat": 4,
 "nbformat_minor": 2
}
