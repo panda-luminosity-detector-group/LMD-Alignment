{
 "cells": [
  {
   "cell_type": "code",
   "execution_count": 171,
   "metadata": {},
   "outputs": [],
   "source": [
    "import numpy as np\n",
    "import awkward as ak\n",
    "import uproot, icp, json\n"
   ]
  },
  {
   "cell_type": "code",
   "execution_count": 175,
   "metadata": {},
   "outputs": [],
   "source": [
    "availableOverlapIDs = []\n",
    "with open(\"comparisonData/sensors-1.00/rawData/detectorOverlapsIdeal.json\") as f:\n",
    "    idealOverlaps = json.load(f)\n",
    "    for overlap in idealOverlaps:\n",
    "        availableOverlapIDs.append(idealOverlaps[overlap][\"overlapID\"])\n"
   ]
  },
  {
   "cell_type": "code",
   "execution_count": 178,
   "metadata": {},
   "outputs": [],
   "source": [
    "# read from root and sort to numpy, process one root file ENTTIRELY at a time an then write all np arrays to disk\n",
    "# only then read next file (saves on IO)\n",
    "filename = \"comparisonData/sensors-1.00/rawData/Lumi_Pairs_*.root\"\n",
    "\n",
    "runIndex = 0\n",
    "maxNoOfFiles = 0\n",
    "npyOutputDir = \"comparisonData/sensors-1.00/npPairs\"\n",
    "\n",
    "for arrays in uproot.iterate(\n",
    "    filename,\n",
    "    [\n",
    "        \"PndLmdHitPair._overlapID\",\n",
    "        \"PndLmdHitPair._hit1\",\n",
    "        \"PndLmdHitPair._hit2\",\n",
    "    ],\n",
    "    # library=\"np\", # DONT use numpy yet, we need the awkward array for the TVector3\n",
    "    allow_missing=True,  # some files may be empty, skip those):\n",
    "):\n",
    "    runIndex += 1\n",
    "\n",
    "    # apply a mask for at least one overlap (since they come event-based, there\n",
    "    # may actually be not hit in a given event)\n",
    "\n",
    "    overlapIDs = np.array(ak.flatten(arrays[\"PndLmdHitPair._overlapID\"]))\n",
    "    hit1x = ak.flatten(arrays[\"PndLmdHitPair._hit1\"].fX)\n",
    "    hit1y = ak.flatten(arrays[\"PndLmdHitPair._hit1\"].fY)\n",
    "    hit1z = ak.flatten(arrays[\"PndLmdHitPair._hit1\"].fZ)\n",
    "    hit2x = ak.flatten(arrays[\"PndLmdHitPair._hit2\"].fX)\n",
    "    hit2y = ak.flatten(arrays[\"PndLmdHitPair._hit2\"].fY)\n",
    "    hit2z = ak.flatten(arrays[\"PndLmdHitPair._hit2\"].fZ)\n",
    "\n",
    "    hit1 = np.array((hit1x, hit1y, hit1z)).T\n",
    "    hit2 = np.array((hit2x, hit2y, hit2z)).T\n",
    "\n",
    "    distVec = np.linalg.norm(hit1 - hit2, axis=1)\n",
    "\n",
    "    arr = np.array((overlapIDs, hit1x, hit1y, hit1z, hit2x, hit2y, hit2z, distVec)).T\n",
    "\n",
    "    for overlap in availableOverlapIDs:\n",
    "        mask = arr[:, 0] == overlap\n",
    "        thisOverlapsArray = arr[mask][:, 1:]\n",
    "\n",
    "        # read array from disk\n",
    "        fileName = f\"{npyOutputDir}/pairs-{overlap}.npy\"\n",
    "\n",
    "        try:\n",
    "            oldContent = np.load(fileName)\n",
    "        # first run, file not already present\n",
    "        except:\n",
    "            oldContent = np.empty((0, 7))\n",
    "\n",
    "        # merge\n",
    "        newContent = np.concatenate((oldContent, thisOverlapsArray))\n",
    "\n",
    "        # write back to disk\n",
    "        np.save(file=fileName, arr=newContent, allow_pickle=False)\n",
    "\n",
    "    if runIndex == maxNoOfFiles:\n",
    "        break\n"
   ]
  },
  {
   "cell_type": "code",
   "execution_count": 187,
   "metadata": {},
   "outputs": [
    {
     "name": "stdout",
     "output_type": "stream",
     "text": [
      "[2.91411324e+01 1.66799998e+00 1.09705725e+03 2.91428299e+01\n",
      " 1.68400967e+00 1.09708228e+03 2.97558913e-02]\n",
      "[2.95697727e+01 1.83599997e+00 1.09704016e+03 2.95659866e+01\n",
      " 1.85126710e+00 1.09706531e+03 2.96608412e-02]\n"
     ]
    }
   ],
   "source": [
    "# Test, did that work?\n",
    "arr1 = np.load('comparisonData/sensors-1.00/rawData/npPairs/pairs-0.npy').T\n",
    "arr2 = np.load('comparisonData/sensors-1.00/npPairs/pairs-0.npy')\n",
    "print(arr1[0])\n",
    "print(arr2[0])\n",
    "\n",
    "# well, not identical, but ... similar? test aligener and see"
   ]
  },
  {
   "cell_type": "code",
   "execution_count": 146,
   "metadata": {},
   "outputs": [],
   "source": [
    "# then, use MT:\n",
    "# each thread reads one npy file and processes, submit to thread pool\n"
   ]
  },
  {
   "cell_type": "code",
   "execution_count": null,
   "metadata": {},
   "outputs": [],
   "source": []
  }
 ],
 "metadata": {
  "kernelspec": {
   "display_name": "Python 3.10.8 64-bit",
   "language": "python",
   "name": "python3"
  },
  "language_info": {
   "codemirror_mode": {
    "name": "ipython",
    "version": 3
   },
   "file_extension": ".py",
   "mimetype": "text/x-python",
   "name": "python",
   "nbconvert_exporter": "python",
   "pygments_lexer": "ipython3",
   "version": "3.10.8"
  },
  "orig_nbformat": 4,
  "vscode": {
   "interpreter": {
    "hash": "31f2aee4e71d21fbe5cf8b01ff0e069b9275f58929596ceb00d14d90e3e16cd6"
   }
  }
 },
 "nbformat": 4,
 "nbformat_minor": 2
}
